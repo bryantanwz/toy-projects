{
  "nbformat": 4,
  "nbformat_minor": 0,
  "metadata": {
    "colab": {
      "provenance": [],
      "authorship_tag": "ABX9TyPFnpx2TbFDnJjMRSohvOxi",
      "include_colab_link": true
    },
    "kernelspec": {
      "name": "python3",
      "display_name": "Python 3"
    },
    "language_info": {
      "name": "python"
    }
  },
  "cells": [
    {
      "cell_type": "markdown",
      "metadata": {
        "id": "view-in-github",
        "colab_type": "text"
      },
      "source": [
        "<a href=\"https://colab.research.google.com/github/bryantanwz/toy-projects/blob/main/LSTM_StockPredictor.ipynb\" target=\"_parent\"><img src=\"https://colab.research.google.com/assets/colab-badge.svg\" alt=\"Open In Colab\"/></a>"
      ]
    },
    {
      "cell_type": "code",
      "execution_count": 2,
      "metadata": {
        "id": "ysQzd5cyL-cb"
      },
      "outputs": [],
      "source": [
        "import yfinance as yf"
      ]
    },
    {
      "cell_type": "code",
      "source": [
        "stock_data = yf.download('DAC', start='2014-02-21', end='2024-02-21')\n",
        "stock_data"
      ],
      "metadata": {
        "colab": {
          "base_uri": "https://localhost:8080/",
          "height": 473
        },
        "id": "a-wX_M-ZMKn9",
        "outputId": "4ae63361-11b0-4298-c0b4-4e3af063b6cc"
      },
      "execution_count": 3,
      "outputs": [
        {
          "output_type": "stream",
          "name": "stderr",
          "text": [
            "\r[*********************100%%**********************]  1 of 1 completed\n"
          ]
        },
        {
          "output_type": "execute_result",
          "data": {
            "text/plain": [
              "                 Open       High        Low      Close  Adj Close  Volume\n",
              "Date                                                                     \n",
              "2014-02-21  86.800003  90.440002  86.379997  88.199997  77.498634    1179\n",
              "2014-02-24  88.339996  90.440002  86.660004  89.599998  78.728775    2021\n",
              "2014-02-25  89.599998  90.160004  86.660004  88.480003  77.744659    1571\n",
              "2014-02-26  89.320000  89.739998  86.800003  89.040001  78.236725    1600\n",
              "2014-02-27  88.199997  89.320000  85.120003  87.360001  76.760567    2164\n",
              "...               ...        ...        ...        ...        ...     ...\n",
              "2024-02-13  75.989998  76.440002  74.970001  75.449997  73.994164  110400\n",
              "2024-02-14  72.650002  74.949997  72.019997  72.570000  71.169739  189800\n",
              "2024-02-15  72.360001  72.849998  71.660004  72.040001  70.649971  128700\n",
              "2024-02-16  72.040001  72.500000  71.290001  71.669998  70.287102  106800\n",
              "2024-02-20  71.639999  71.639999  70.099998  70.860001  69.492729  120800\n",
              "\n",
              "[2516 rows x 6 columns]"
            ],
            "text/html": [
              "\n",
              "  <div id=\"df-07595aed-0341-4423-8c8b-0329e4b6b11c\" class=\"colab-df-container\">\n",
              "    <div>\n",
              "<style scoped>\n",
              "    .dataframe tbody tr th:only-of-type {\n",
              "        vertical-align: middle;\n",
              "    }\n",
              "\n",
              "    .dataframe tbody tr th {\n",
              "        vertical-align: top;\n",
              "    }\n",
              "\n",
              "    .dataframe thead th {\n",
              "        text-align: right;\n",
              "    }\n",
              "</style>\n",
              "<table border=\"1\" class=\"dataframe\">\n",
              "  <thead>\n",
              "    <tr style=\"text-align: right;\">\n",
              "      <th></th>\n",
              "      <th>Open</th>\n",
              "      <th>High</th>\n",
              "      <th>Low</th>\n",
              "      <th>Close</th>\n",
              "      <th>Adj Close</th>\n",
              "      <th>Volume</th>\n",
              "    </tr>\n",
              "    <tr>\n",
              "      <th>Date</th>\n",
              "      <th></th>\n",
              "      <th></th>\n",
              "      <th></th>\n",
              "      <th></th>\n",
              "      <th></th>\n",
              "      <th></th>\n",
              "    </tr>\n",
              "  </thead>\n",
              "  <tbody>\n",
              "    <tr>\n",
              "      <th>2014-02-21</th>\n",
              "      <td>86.800003</td>\n",
              "      <td>90.440002</td>\n",
              "      <td>86.379997</td>\n",
              "      <td>88.199997</td>\n",
              "      <td>77.498634</td>\n",
              "      <td>1179</td>\n",
              "    </tr>\n",
              "    <tr>\n",
              "      <th>2014-02-24</th>\n",
              "      <td>88.339996</td>\n",
              "      <td>90.440002</td>\n",
              "      <td>86.660004</td>\n",
              "      <td>89.599998</td>\n",
              "      <td>78.728775</td>\n",
              "      <td>2021</td>\n",
              "    </tr>\n",
              "    <tr>\n",
              "      <th>2014-02-25</th>\n",
              "      <td>89.599998</td>\n",
              "      <td>90.160004</td>\n",
              "      <td>86.660004</td>\n",
              "      <td>88.480003</td>\n",
              "      <td>77.744659</td>\n",
              "      <td>1571</td>\n",
              "    </tr>\n",
              "    <tr>\n",
              "      <th>2014-02-26</th>\n",
              "      <td>89.320000</td>\n",
              "      <td>89.739998</td>\n",
              "      <td>86.800003</td>\n",
              "      <td>89.040001</td>\n",
              "      <td>78.236725</td>\n",
              "      <td>1600</td>\n",
              "    </tr>\n",
              "    <tr>\n",
              "      <th>2014-02-27</th>\n",
              "      <td>88.199997</td>\n",
              "      <td>89.320000</td>\n",
              "      <td>85.120003</td>\n",
              "      <td>87.360001</td>\n",
              "      <td>76.760567</td>\n",
              "      <td>2164</td>\n",
              "    </tr>\n",
              "    <tr>\n",
              "      <th>...</th>\n",
              "      <td>...</td>\n",
              "      <td>...</td>\n",
              "      <td>...</td>\n",
              "      <td>...</td>\n",
              "      <td>...</td>\n",
              "      <td>...</td>\n",
              "    </tr>\n",
              "    <tr>\n",
              "      <th>2024-02-13</th>\n",
              "      <td>75.989998</td>\n",
              "      <td>76.440002</td>\n",
              "      <td>74.970001</td>\n",
              "      <td>75.449997</td>\n",
              "      <td>73.994164</td>\n",
              "      <td>110400</td>\n",
              "    </tr>\n",
              "    <tr>\n",
              "      <th>2024-02-14</th>\n",
              "      <td>72.650002</td>\n",
              "      <td>74.949997</td>\n",
              "      <td>72.019997</td>\n",
              "      <td>72.570000</td>\n",
              "      <td>71.169739</td>\n",
              "      <td>189800</td>\n",
              "    </tr>\n",
              "    <tr>\n",
              "      <th>2024-02-15</th>\n",
              "      <td>72.360001</td>\n",
              "      <td>72.849998</td>\n",
              "      <td>71.660004</td>\n",
              "      <td>72.040001</td>\n",
              "      <td>70.649971</td>\n",
              "      <td>128700</td>\n",
              "    </tr>\n",
              "    <tr>\n",
              "      <th>2024-02-16</th>\n",
              "      <td>72.040001</td>\n",
              "      <td>72.500000</td>\n",
              "      <td>71.290001</td>\n",
              "      <td>71.669998</td>\n",
              "      <td>70.287102</td>\n",
              "      <td>106800</td>\n",
              "    </tr>\n",
              "    <tr>\n",
              "      <th>2024-02-20</th>\n",
              "      <td>71.639999</td>\n",
              "      <td>71.639999</td>\n",
              "      <td>70.099998</td>\n",
              "      <td>70.860001</td>\n",
              "      <td>69.492729</td>\n",
              "      <td>120800</td>\n",
              "    </tr>\n",
              "  </tbody>\n",
              "</table>\n",
              "<p>2516 rows × 6 columns</p>\n",
              "</div>\n",
              "    <div class=\"colab-df-buttons\">\n",
              "\n",
              "  <div class=\"colab-df-container\">\n",
              "    <button class=\"colab-df-convert\" onclick=\"convertToInteractive('df-07595aed-0341-4423-8c8b-0329e4b6b11c')\"\n",
              "            title=\"Convert this dataframe to an interactive table.\"\n",
              "            style=\"display:none;\">\n",
              "\n",
              "  <svg xmlns=\"http://www.w3.org/2000/svg\" height=\"24px\" viewBox=\"0 -960 960 960\">\n",
              "    <path d=\"M120-120v-720h720v720H120Zm60-500h600v-160H180v160Zm220 220h160v-160H400v160Zm0 220h160v-160H400v160ZM180-400h160v-160H180v160Zm440 0h160v-160H620v160ZM180-180h160v-160H180v160Zm440 0h160v-160H620v160Z\"/>\n",
              "  </svg>\n",
              "    </button>\n",
              "\n",
              "  <style>\n",
              "    .colab-df-container {\n",
              "      display:flex;\n",
              "      gap: 12px;\n",
              "    }\n",
              "\n",
              "    .colab-df-convert {\n",
              "      background-color: #E8F0FE;\n",
              "      border: none;\n",
              "      border-radius: 50%;\n",
              "      cursor: pointer;\n",
              "      display: none;\n",
              "      fill: #1967D2;\n",
              "      height: 32px;\n",
              "      padding: 0 0 0 0;\n",
              "      width: 32px;\n",
              "    }\n",
              "\n",
              "    .colab-df-convert:hover {\n",
              "      background-color: #E2EBFA;\n",
              "      box-shadow: 0px 1px 2px rgba(60, 64, 67, 0.3), 0px 1px 3px 1px rgba(60, 64, 67, 0.15);\n",
              "      fill: #174EA6;\n",
              "    }\n",
              "\n",
              "    .colab-df-buttons div {\n",
              "      margin-bottom: 4px;\n",
              "    }\n",
              "\n",
              "    [theme=dark] .colab-df-convert {\n",
              "      background-color: #3B4455;\n",
              "      fill: #D2E3FC;\n",
              "    }\n",
              "\n",
              "    [theme=dark] .colab-df-convert:hover {\n",
              "      background-color: #434B5C;\n",
              "      box-shadow: 0px 1px 3px 1px rgba(0, 0, 0, 0.15);\n",
              "      filter: drop-shadow(0px 1px 2px rgba(0, 0, 0, 0.3));\n",
              "      fill: #FFFFFF;\n",
              "    }\n",
              "  </style>\n",
              "\n",
              "    <script>\n",
              "      const buttonEl =\n",
              "        document.querySelector('#df-07595aed-0341-4423-8c8b-0329e4b6b11c button.colab-df-convert');\n",
              "      buttonEl.style.display =\n",
              "        google.colab.kernel.accessAllowed ? 'block' : 'none';\n",
              "\n",
              "      async function convertToInteractive(key) {\n",
              "        const element = document.querySelector('#df-07595aed-0341-4423-8c8b-0329e4b6b11c');\n",
              "        const dataTable =\n",
              "          await google.colab.kernel.invokeFunction('convertToInteractive',\n",
              "                                                    [key], {});\n",
              "        if (!dataTable) return;\n",
              "\n",
              "        const docLinkHtml = 'Like what you see? Visit the ' +\n",
              "          '<a target=\"_blank\" href=https://colab.research.google.com/notebooks/data_table.ipynb>data table notebook</a>'\n",
              "          + ' to learn more about interactive tables.';\n",
              "        element.innerHTML = '';\n",
              "        dataTable['output_type'] = 'display_data';\n",
              "        await google.colab.output.renderOutput(dataTable, element);\n",
              "        const docLink = document.createElement('div');\n",
              "        docLink.innerHTML = docLinkHtml;\n",
              "        element.appendChild(docLink);\n",
              "      }\n",
              "    </script>\n",
              "  </div>\n",
              "\n",
              "\n",
              "<div id=\"df-6cdeabea-35cc-4f21-858a-67d505744c0e\">\n",
              "  <button class=\"colab-df-quickchart\" onclick=\"quickchart('df-6cdeabea-35cc-4f21-858a-67d505744c0e')\"\n",
              "            title=\"Suggest charts\"\n",
              "            style=\"display:none;\">\n",
              "\n",
              "<svg xmlns=\"http://www.w3.org/2000/svg\" height=\"24px\"viewBox=\"0 0 24 24\"\n",
              "     width=\"24px\">\n",
              "    <g>\n",
              "        <path d=\"M19 3H5c-1.1 0-2 .9-2 2v14c0 1.1.9 2 2 2h14c1.1 0 2-.9 2-2V5c0-1.1-.9-2-2-2zM9 17H7v-7h2v7zm4 0h-2V7h2v10zm4 0h-2v-4h2v4z\"/>\n",
              "    </g>\n",
              "</svg>\n",
              "  </button>\n",
              "\n",
              "<style>\n",
              "  .colab-df-quickchart {\n",
              "      --bg-color: #E8F0FE;\n",
              "      --fill-color: #1967D2;\n",
              "      --hover-bg-color: #E2EBFA;\n",
              "      --hover-fill-color: #174EA6;\n",
              "      --disabled-fill-color: #AAA;\n",
              "      --disabled-bg-color: #DDD;\n",
              "  }\n",
              "\n",
              "  [theme=dark] .colab-df-quickchart {\n",
              "      --bg-color: #3B4455;\n",
              "      --fill-color: #D2E3FC;\n",
              "      --hover-bg-color: #434B5C;\n",
              "      --hover-fill-color: #FFFFFF;\n",
              "      --disabled-bg-color: #3B4455;\n",
              "      --disabled-fill-color: #666;\n",
              "  }\n",
              "\n",
              "  .colab-df-quickchart {\n",
              "    background-color: var(--bg-color);\n",
              "    border: none;\n",
              "    border-radius: 50%;\n",
              "    cursor: pointer;\n",
              "    display: none;\n",
              "    fill: var(--fill-color);\n",
              "    height: 32px;\n",
              "    padding: 0;\n",
              "    width: 32px;\n",
              "  }\n",
              "\n",
              "  .colab-df-quickchart:hover {\n",
              "    background-color: var(--hover-bg-color);\n",
              "    box-shadow: 0 1px 2px rgba(60, 64, 67, 0.3), 0 1px 3px 1px rgba(60, 64, 67, 0.15);\n",
              "    fill: var(--button-hover-fill-color);\n",
              "  }\n",
              "\n",
              "  .colab-df-quickchart-complete:disabled,\n",
              "  .colab-df-quickchart-complete:disabled:hover {\n",
              "    background-color: var(--disabled-bg-color);\n",
              "    fill: var(--disabled-fill-color);\n",
              "    box-shadow: none;\n",
              "  }\n",
              "\n",
              "  .colab-df-spinner {\n",
              "    border: 2px solid var(--fill-color);\n",
              "    border-color: transparent;\n",
              "    border-bottom-color: var(--fill-color);\n",
              "    animation:\n",
              "      spin 1s steps(1) infinite;\n",
              "  }\n",
              "\n",
              "  @keyframes spin {\n",
              "    0% {\n",
              "      border-color: transparent;\n",
              "      border-bottom-color: var(--fill-color);\n",
              "      border-left-color: var(--fill-color);\n",
              "    }\n",
              "    20% {\n",
              "      border-color: transparent;\n",
              "      border-left-color: var(--fill-color);\n",
              "      border-top-color: var(--fill-color);\n",
              "    }\n",
              "    30% {\n",
              "      border-color: transparent;\n",
              "      border-left-color: var(--fill-color);\n",
              "      border-top-color: var(--fill-color);\n",
              "      border-right-color: var(--fill-color);\n",
              "    }\n",
              "    40% {\n",
              "      border-color: transparent;\n",
              "      border-right-color: var(--fill-color);\n",
              "      border-top-color: var(--fill-color);\n",
              "    }\n",
              "    60% {\n",
              "      border-color: transparent;\n",
              "      border-right-color: var(--fill-color);\n",
              "    }\n",
              "    80% {\n",
              "      border-color: transparent;\n",
              "      border-right-color: var(--fill-color);\n",
              "      border-bottom-color: var(--fill-color);\n",
              "    }\n",
              "    90% {\n",
              "      border-color: transparent;\n",
              "      border-bottom-color: var(--fill-color);\n",
              "    }\n",
              "  }\n",
              "</style>\n",
              "\n",
              "  <script>\n",
              "    async function quickchart(key) {\n",
              "      const quickchartButtonEl =\n",
              "        document.querySelector('#' + key + ' button');\n",
              "      quickchartButtonEl.disabled = true;  // To prevent multiple clicks.\n",
              "      quickchartButtonEl.classList.add('colab-df-spinner');\n",
              "      try {\n",
              "        const charts = await google.colab.kernel.invokeFunction(\n",
              "            'suggestCharts', [key], {});\n",
              "      } catch (error) {\n",
              "        console.error('Error during call to suggestCharts:', error);\n",
              "      }\n",
              "      quickchartButtonEl.classList.remove('colab-df-spinner');\n",
              "      quickchartButtonEl.classList.add('colab-df-quickchart-complete');\n",
              "    }\n",
              "    (() => {\n",
              "      let quickchartButtonEl =\n",
              "        document.querySelector('#df-6cdeabea-35cc-4f21-858a-67d505744c0e button');\n",
              "      quickchartButtonEl.style.display =\n",
              "        google.colab.kernel.accessAllowed ? 'block' : 'none';\n",
              "    })();\n",
              "  </script>\n",
              "</div>\n",
              "\n",
              "  <div id=\"id_e88eac87-9805-446f-bd44-4cb9a8004098\">\n",
              "    <style>\n",
              "      .colab-df-generate {\n",
              "        background-color: #E8F0FE;\n",
              "        border: none;\n",
              "        border-radius: 50%;\n",
              "        cursor: pointer;\n",
              "        display: none;\n",
              "        fill: #1967D2;\n",
              "        height: 32px;\n",
              "        padding: 0 0 0 0;\n",
              "        width: 32px;\n",
              "      }\n",
              "\n",
              "      .colab-df-generate:hover {\n",
              "        background-color: #E2EBFA;\n",
              "        box-shadow: 0px 1px 2px rgba(60, 64, 67, 0.3), 0px 1px 3px 1px rgba(60, 64, 67, 0.15);\n",
              "        fill: #174EA6;\n",
              "      }\n",
              "\n",
              "      [theme=dark] .colab-df-generate {\n",
              "        background-color: #3B4455;\n",
              "        fill: #D2E3FC;\n",
              "      }\n",
              "\n",
              "      [theme=dark] .colab-df-generate:hover {\n",
              "        background-color: #434B5C;\n",
              "        box-shadow: 0px 1px 3px 1px rgba(0, 0, 0, 0.15);\n",
              "        filter: drop-shadow(0px 1px 2px rgba(0, 0, 0, 0.3));\n",
              "        fill: #FFFFFF;\n",
              "      }\n",
              "    </style>\n",
              "    <button class=\"colab-df-generate\" onclick=\"generateWithVariable('stock_data')\"\n",
              "            title=\"Generate code using this dataframe.\"\n",
              "            style=\"display:none;\">\n",
              "\n",
              "  <svg xmlns=\"http://www.w3.org/2000/svg\" height=\"24px\"viewBox=\"0 0 24 24\"\n",
              "       width=\"24px\">\n",
              "    <path d=\"M7,19H8.4L18.45,9,17,7.55,7,17.6ZM5,21V16.75L18.45,3.32a2,2,0,0,1,2.83,0l1.4,1.43a1.91,1.91,0,0,1,.58,1.4,1.91,1.91,0,0,1-.58,1.4L9.25,21ZM18.45,9,17,7.55Zm-12,3A5.31,5.31,0,0,0,4.9,8.1,5.31,5.31,0,0,0,1,6.5,5.31,5.31,0,0,0,4.9,4.9,5.31,5.31,0,0,0,6.5,1,5.31,5.31,0,0,0,8.1,4.9,5.31,5.31,0,0,0,12,6.5,5.46,5.46,0,0,0,6.5,12Z\"/>\n",
              "  </svg>\n",
              "    </button>\n",
              "    <script>\n",
              "      (() => {\n",
              "      const buttonEl =\n",
              "        document.querySelector('#id_e88eac87-9805-446f-bd44-4cb9a8004098 button.colab-df-generate');\n",
              "      buttonEl.style.display =\n",
              "        google.colab.kernel.accessAllowed ? 'block' : 'none';\n",
              "\n",
              "      buttonEl.onclick = () => {\n",
              "        google.colab.notebook.generateWithVariable('stock_data');\n",
              "      }\n",
              "      })();\n",
              "    </script>\n",
              "  </div>\n",
              "\n",
              "    </div>\n",
              "  </div>\n"
            ],
            "application/vnd.google.colaboratory.intrinsic+json": {
              "type": "dataframe",
              "variable_name": "stock_data",
              "summary": "{\n  \"name\": \"stock_data\",\n  \"rows\": 2516,\n  \"fields\": [\n    {\n      \"column\": \"Date\",\n      \"properties\": {\n        \"dtype\": \"date\",\n        \"min\": \"2014-02-21 00:00:00\",\n        \"max\": \"2024-02-20 00:00:00\",\n        \"num_unique_values\": 2516,\n        \"samples\": [\n          \"2016-08-03 00:00:00\",\n          \"2017-10-25 00:00:00\",\n          \"2017-11-15 00:00:00\"\n        ],\n        \"semantic_type\": \"\",\n        \"description\": \"\"\n      }\n    },\n    {\n      \"column\": \"Open\",\n      \"properties\": {\n        \"dtype\": \"number\",\n        \"std\": 29.722956947607976,\n        \"min\": 2.799999952316284,\n        \"max\": 107.0,\n        \"num_unique_values\": 1357,\n        \"samples\": [\n          85.4000015258789,\n          58.34000015258789,\n          68.80000305175781\n        ],\n        \"semantic_type\": \"\",\n        \"description\": \"\"\n      }\n    },\n    {\n      \"column\": \"High\",\n      \"properties\": {\n        \"dtype\": \"number\",\n        \"std\": 30.143123054923695,\n        \"min\": 3.200000047683716,\n        \"max\": 107.47000122070312,\n        \"num_unique_values\": 1393,\n        \"samples\": [\n          23.799999237060547,\n          67.63999938964844,\n          95.83000183105469\n        ],\n        \"semantic_type\": \"\",\n        \"description\": \"\"\n      }\n    },\n    {\n      \"column\": \"Low\",\n      \"properties\": {\n        \"dtype\": \"number\",\n        \"std\": 29.149741255806948,\n        \"min\": 2.5,\n        \"max\": 105.2300033569336,\n        \"num_unique_values\": 1379,\n        \"samples\": [\n          4.150000095367432,\n          80.20999908447266,\n          4.099999904632568\n        ],\n        \"semantic_type\": \"\",\n        \"description\": \"\"\n      }\n    },\n    {\n      \"column\": \"Close\",\n      \"properties\": {\n        \"dtype\": \"number\",\n        \"std\": 29.773860322171704,\n        \"min\": 2.7799999713897705,\n        \"max\": 106.63999938964844,\n        \"num_unique_values\": 1412,\n        \"samples\": [\n          30.079999923706055,\n          66.9800033569336,\n          28.700000762939453\n        ],\n        \"semantic_type\": \"\",\n        \"description\": \"\"\n      }\n    },\n    {\n      \"column\": \"Adj Close\",\n      \"properties\": {\n        \"dtype\": \"number\",\n        \"std\": 26.851851336376352,\n        \"min\": 2.4427003860473633,\n        \"max\": 96.50901794433594,\n        \"num_unique_values\": 1497,\n        \"samples\": [\n          92.64466857910156,\n          53.51192092895508,\n          63.13006591796875\n        ],\n        \"semantic_type\": \"\",\n        \"description\": \"\"\n      }\n    },\n    {\n      \"column\": \"Volume\",\n      \"properties\": {\n        \"dtype\": \"number\",\n        \"std\": 209570,\n        \"min\": 71,\n        \"max\": 2851600,\n        \"num_unique_values\": 1805,\n        \"samples\": [\n          153000,\n          579,\n          24286\n        ],\n        \"semantic_type\": \"\",\n        \"description\": \"\"\n      }\n    }\n  ]\n}"
            }
          },
          "metadata": {},
          "execution_count": 3
        }
      ]
    },
    {
      "cell_type": "code",
      "source": [
        "from sklearn.preprocessing import MinMaxScaler\n",
        "scaler = MinMaxScaler(feature_range=(0,1))\n",
        "scaled_data = scaler.fit_transform(stock_data[\"Close\"].values.reshape([-1,1]))"
      ],
      "metadata": {
        "id": "L45iN3eaovvR"
      },
      "execution_count": 5,
      "outputs": []
    },
    {
      "cell_type": "code",
      "source": [
        "import numpy as np\n",
        "def create_dataset(data, time_step):\n",
        "  X, y = [], []\n",
        "  for i in range(len(data) - time_step - 1):\n",
        "    X.append(data[i:(i+time_step), 0]) # X is all the values leading up to y value\n",
        "    y.append(data[i+time_step, 0]) # y value is just the y value\n",
        "  return np.array(X), np.array(y)"
      ],
      "metadata": {
        "id": "3mpzvR13pDP_"
      },
      "execution_count": 7,
      "outputs": []
    },
    {
      "cell_type": "code",
      "source": [
        "time_step = 25\n",
        "X , y = create_dataset(scaled_data, time_step)"
      ],
      "metadata": {
        "id": "UQicRP0jqYZ0"
      },
      "execution_count": 11,
      "outputs": []
    },
    {
      "cell_type": "code",
      "source": [
        "train_size = 0.8\n",
        "X_train, X_test = X[:int(X.shape[0]*train_size)], X[int(X.shape[0]*train_size):]\n",
        "y_train, y_test = y[:int(y.shape[0]*train_size)], y[int(y.shape[0]*train_size):]"
      ],
      "metadata": {
        "id": "lYgTN4VFqaKM"
      },
      "execution_count": 12,
      "outputs": []
    },
    {
      "cell_type": "code",
      "source": [
        "from keras.models import Sequential\n",
        "from keras.layers import Dense, LSTM\n",
        "\n",
        "model = Sequential()\n",
        "model.add(LSTM(64, return_sequences=True, input_shape=(time_step,1)))\n",
        "model.add(LSTM(64))\n",
        "model.add(Dense(64))\n",
        "model.add(Dense(1))"
      ],
      "metadata": {
        "id": "yt5XSNHLrgkn"
      },
      "execution_count": 14,
      "outputs": []
    },
    {
      "cell_type": "code",
      "source": [
        "model.compile(optimizer=\"adam\",loss=\"mean_squared_error\")\n",
        "model.fit(X_train, y_train, epochs=10, batch_size=64)"
      ],
      "metadata": {
        "colab": {
          "base_uri": "https://localhost:8080/"
        },
        "id": "IxtfvegKrrPX",
        "outputId": "887fe4f4-8470-4b7e-d8bf-d6ef45aa5ffb"
      },
      "execution_count": 15,
      "outputs": [
        {
          "output_type": "stream",
          "name": "stdout",
          "text": [
            "Epoch 1/10\n",
            "32/32 [==============================] - 9s 37ms/step - loss: 0.0197\n",
            "Epoch 2/10\n",
            "32/32 [==============================] - 1s 37ms/step - loss: 0.0015\n",
            "Epoch 3/10\n",
            "32/32 [==============================] - 1s 37ms/step - loss: 0.0012\n",
            "Epoch 4/10\n",
            "32/32 [==============================] - 1s 37ms/step - loss: 0.0011\n",
            "Epoch 5/10\n",
            "32/32 [==============================] - 1s 37ms/step - loss: 0.0011\n",
            "Epoch 6/10\n",
            "32/32 [==============================] - 1s 37ms/step - loss: 0.0010\n",
            "Epoch 7/10\n",
            "32/32 [==============================] - 1s 45ms/step - loss: 0.0010\n",
            "Epoch 8/10\n",
            "32/32 [==============================] - 2s 59ms/step - loss: 9.4102e-04\n",
            "Epoch 9/10\n",
            "32/32 [==============================] - 2s 55ms/step - loss: 9.2792e-04\n",
            "Epoch 10/10\n",
            "32/32 [==============================] - 1s 38ms/step - loss: 9.0440e-04\n"
          ]
        },
        {
          "output_type": "execute_result",
          "data": {
            "text/plain": [
              "<keras.src.callbacks.History at 0x7928b82080a0>"
            ]
          },
          "metadata": {},
          "execution_count": 15
        }
      ]
    },
    {
      "cell_type": "code",
      "source": [
        "test_loss = model.evaluate(X_test, y_test)\n",
        "test_loss"
      ],
      "metadata": {
        "colab": {
          "base_uri": "https://localhost:8080/"
        },
        "id": "FrjIW0VrtbNV",
        "outputId": "c2f7a1e1-0aa5-49ac-b5f0-11d62079cb55"
      },
      "execution_count": 17,
      "outputs": [
        {
          "output_type": "stream",
          "name": "stdout",
          "text": [
            "16/16 [==============================] - 2s 11ms/step - loss: 0.0013\n"
          ]
        },
        {
          "output_type": "execute_result",
          "data": {
            "text/plain": [
              "0.001287116319872439"
            ]
          },
          "metadata": {},
          "execution_count": 17
        }
      ]
    },
    {
      "cell_type": "code",
      "source": [
        "predictions = model.predict(X_test)\n",
        "predictions = scaler.inverse_transform(predictions)"
      ],
      "metadata": {
        "colab": {
          "base_uri": "https://localhost:8080/"
        },
        "id": "tYRC_BdmtnQK",
        "outputId": "8dd0403c-5d0f-4532-b569-6584493707df"
      },
      "execution_count": 21,
      "outputs": [
        {
          "output_type": "stream",
          "name": "stdout",
          "text": [
            "16/16 [==============================] - 0s 21ms/step\n"
          ]
        }
      ]
    },
    {
      "cell_type": "code",
      "source": [
        "original_data = stock_data[\"Close\"].values\n",
        "predicted_data = np.empty_like(original_data)\n",
        "predicted_data[:] = np.nan\n",
        "predicted_data[-len(predictions):] = predictions.reshape(-1)"
      ],
      "metadata": {
        "id": "Ohm9CrgjuHt6"
      },
      "execution_count": 24,
      "outputs": []
    },
    {
      "cell_type": "code",
      "source": [
        "import matplotlib.pyplot as plt\n",
        "plt.plot(original_data)\n",
        "plt.plot(predicted_data)"
      ],
      "metadata": {
        "colab": {
          "base_uri": "https://localhost:8080/",
          "height": 448
        },
        "id": "Kso-YyOruL0c",
        "outputId": "bfde28eb-d2b5-4962-b241-a53da0b2969d"
      },
      "execution_count": 25,
      "outputs": [
        {
          "output_type": "execute_result",
          "data": {
            "text/plain": [
              "[<matplotlib.lines.Line2D at 0x7928ab6139d0>]"
            ]
          },
          "metadata": {},
          "execution_count": 25
        },
        {
          "output_type": "display_data",
          "data": {
            "text/plain": [
              "<Figure size 640x480 with 1 Axes>"
            ],
            "image/png": "[encoded data removed]"
          },
          "metadata": {}
        }
      ]
    },
    {
      "cell_type": "code",
      "source": [
        "new_predictions = model.predict(X_test[-90:])\n",
        "new_predictions = scaler.inverse_transform(new_predictions)\n",
        "predicted_data = np.append(predicted_data, new_predictions)\n",
        "plt.plot(original_data)\n",
        "plt.plot(predicted_data)"
      ],
      "metadata": {
        "colab": {
          "base_uri": "https://localhost:8080/",
          "height": 466
        },
        "id": "eQNPOjesuzvb",
        "outputId": "b4870076-0250-4d53-852b-fa59de03e506"
      },
      "execution_count": 28,
      "outputs": [
        {
          "output_type": "stream",
          "name": "stdout",
          "text": [
            "3/3 [==============================] - 0s 10ms/step\n"
          ]
        },
        {
          "output_type": "execute_result",
          "data": {
            "text/plain": [
              "[<matplotlib.lines.Line2D at 0x7928ab5c3d30>]"
            ]
          },
          "metadata": {},
          "execution_count": 28
        },
        {
          "output_type": "display_data",
          "data": {
            "text/plain": [
              "<Figure size 640x480 with 1 Axes>"
            ],
            "image/png": "[encoded data removed]"
          },
          "metadata": {}
        }
      ]
    },
    {
      "cell_type": "code",
      "source": [],
      "metadata": {
        "id": "S5cAg0fSu_QZ"
      },
      "execution_count": null,
      "outputs": []
    }
  ]
}